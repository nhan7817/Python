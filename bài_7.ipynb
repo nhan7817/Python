{
  "nbformat": 4,
  "nbformat_minor": 0,
  "metadata": {
    "colab": {
      "name": "bài 7.ipynb",
      "provenance": [],
      "collapsed_sections": []
    },
    "kernelspec": {
      "name": "python3",
      "display_name": "Python 3"
    }
  },
  "cells": [
    {
      "cell_type": "code",
      "metadata": {
        "id": "f4_J9o-Wxgwy",
        "outputId": "3d754dc9-4dae-4d42-f6ec-b2aea486f723",
        "colab": {
          "base_uri": "https://localhost:8080/"
        }
      },
      "source": [
        "from __future__ import print_function\n",
        "import numpy as np \n",
        "\n",
        "def acc(y_true, y_pred):\n",
        "    correct = np.sum(y_true == y_pred)\n",
        "    return float(correct)/y_true.shape[0]\n",
        "\n",
        "y_true = np.array([0, 0, 0, 0, 1, 1, 1, 2, 2, 2])\n",
        "y_pred = np.array([0, 1, 0, 2, 1, 1, 0, 2, 1, 2])\n",
        "print('accuracy = ', acc(y_true, y_pred))"
      ],
      "execution_count": 1,
      "outputs": [
        {
          "output_type": "stream",
          "text": [
            "accuracy =  0.6\n"
          ],
          "name": "stdout"
        }
      ]
    },
    {
      "cell_type": "code",
      "metadata": {
        "id": "KQw1wVyEztKG",
        "outputId": "74bde642-fd5c-45ea-9b7d-4f50a60bfe1f",
        "colab": {
          "base_uri": "https://localhost:8080/"
        }
      },
      "source": [
        "from sklearn.metrics import accuracy_score\n",
        "print('accuracy = ',accuracy_score(y_true, y_pred))"
      ],
      "execution_count": 2,
      "outputs": [
        {
          "output_type": "stream",
          "text": [
            "accuracy =  0.6\n"
          ],
          "name": "stdout"
        }
      ]
    },
    {
      "cell_type": "code",
      "metadata": {
        "id": "PR0w_S7BzzG-",
        "outputId": "509c5ed8-7d71-493c-da47-5f261c4aa76c",
        "colab": {
          "base_uri": "https://localhost:8080/"
        }
      },
      "source": [
        "def my_confusion_matrix(y_true, y_pred):\n",
        "    N = np.unique(y_true).shape[0] # number of classes \n",
        "    cm = np.zeros((N, N))\n",
        "    for n in range(y_true.shape[0]):\n",
        "        cm[y_true[n], y_pred[n]] += 1\n",
        "    return cm \n",
        "\n",
        "cnf_matrix = my_confusion_matrix(y_true, y_pred)\n",
        "print('Confusion matrix:')\n",
        "print(cnf_matrix)\n",
        "print('\\nAccuracy:', np.diagonal(cnf_matrix).sum()/cnf_matrix.sum())"
      ],
      "execution_count": 3,
      "outputs": [
        {
          "output_type": "stream",
          "text": [
            "Confusion matrix:\n",
            "[[2. 1. 1.]\n",
            " [1. 2. 0.]\n",
            " [0. 1. 2.]]\n",
            "\n",
            "Accuracy: 0.6\n"
          ],
          "name": "stdout"
        }
      ]
    },
    {
      "cell_type": "code",
      "metadata": {
        "id": "igZju7D5z3lm",
        "outputId": "3b1be04c-d373-4844-bd63-a1045b95c60c",
        "colab": {
          "base_uri": "https://localhost:8080/"
        }
      },
      "source": [
        "normalized_confusion_matrix = cnf_matrix/cnf_matrix.sum(axis = 1, keepdims = True)\n",
        "print('\\nConfusion matrix (with normalizatrion:)')\n",
        "print(normalized_confusion_matrix)"
      ],
      "execution_count": 4,
      "outputs": [
        {
          "output_type": "stream",
          "text": [
            "\n",
            "Confusion matrix (with normalizatrion:)\n",
            "[[0.5        0.25       0.25      ]\n",
            " [0.33333333 0.66666667 0.        ]\n",
            " [0.         0.33333333 0.66666667]]\n"
          ],
          "name": "stdout"
        }
      ]
    },
    {
      "cell_type": "code",
      "metadata": {
        "id": "9joRF1w7z811",
        "outputId": "d4fd1d9e-a9f7-4bd2-93be-a9b460069740",
        "colab": {
          "base_uri": "https://localhost:8080/"
        }
      },
      "source": [
        "from sklearn.metrics import confusion_matrix\n",
        "cnf_matrix = confusion_matrix(y_true, y_pred)\n",
        "print('Confusion matrix:')\n",
        "print(cnf_matrix)"
      ],
      "execution_count": 5,
      "outputs": [
        {
          "output_type": "stream",
          "text": [
            "Confusion matrix:\n",
            "[[2 1 1]\n",
            " [1 2 0]\n",
            " [0 1 2]]\n"
          ],
          "name": "stdout"
        }
      ]
    },
    {
      "cell_type": "code",
      "metadata": {
        "id": "lLRheNwC0AOm",
        "outputId": "2253fb01-55cd-4ffd-aec2-33a041476411",
        "colab": {
          "base_uri": "https://localhost:8080/",
          "height": 605
        }
      },
      "source": [
        "import matplotlib.pyplot as plt\n",
        "import itertools\n",
        "def plot_confusion_matrix(cm, classes,\n",
        "                          normalize=False,\n",
        "                          title='Confusion matrix',\n",
        "                          cmap=plt.cm.Blues):\n",
        "    \"\"\"\n",
        "    This function prints and plots the confusion matrix.\n",
        "    Normalization can be applied by setting `normalize=True`.\n",
        "    \"\"\"\n",
        "    if normalize:\n",
        "        cm = cm.astype('float') / cm.sum(axis=1, keepdims = True)\n",
        "\n",
        "    plt.imshow(cm, interpolation='nearest', cmap=cmap)\n",
        "    plt.title(title)\n",
        "    plt.colorbar()\n",
        "    tick_marks = np.arange(len(classes))\n",
        "    plt.xticks(tick_marks, classes, rotation=45)\n",
        "    plt.yticks(tick_marks, classes)\n",
        "\n",
        "    fmt = '.2f' if normalize else 'd'\n",
        "    thresh = cm.max() / 2.\n",
        "    for i, j in itertools.product(range(cm.shape[0]), range(cm.shape[1])):\n",
        "        plt.text(j, i, format(cm[i, j], fmt),\n",
        "                 horizontalalignment=\"center\",\n",
        "                 color=\"white\" if cm[i, j] > thresh else \"black\")\n",
        "\n",
        "    plt.tight_layout()\n",
        "    plt.ylabel('True label')\n",
        "    plt.xlabel('Predicted label')\n",
        "\n",
        "# Plot non-normalized confusion matrix\n",
        "class_names = [0, 1, 2]\n",
        "plt.figure()\n",
        "plot_confusion_matrix(cnf_matrix, classes=class_names,\n",
        "                      title='Confusion matrix, without normalization')\n",
        "\n",
        "# Plot normalized confusion matrix\n",
        "plt.figure()\n",
        "plot_confusion_matrix(cnf_matrix, classes=class_names, normalize=True,\n",
        "                      title='Normalized confusion matrix')\n",
        "\n",
        "plt.show()"
      ],
      "execution_count": 6,
      "outputs": [
        {
          "output_type": "display_data",
          "data": {
            "image/png": "[encoded data removed]",
            "text/plain": [
              "<Figure size 432x288 with 2 Axes>"
            ]
          },
          "metadata": {
            "tags": [],
            "needs_background": "light"
          }
        },
        {
          "output_type": "display_data",
          "data": {
            "image/png": "[encoded data removed]",
            "text/plain": [
              "<Figure size 432x288 with 2 Axes>"
            ]
          },
          "metadata": {
            "tags": [],
            "needs_background": "light"
          }
        }
      ]
    },
    {
      "cell_type": "code",
      "metadata": {
        "id": "OywncX1E0EPW",
        "outputId": "3c8594d7-7175-4906-c892-f824c8c041de",
        "colab": {
          "base_uri": "https://localhost:8080/"
        }
      },
      "source": [
        "n0, n1 = 20, 30\n",
        "score0 = np.random.rand(n0)/2\n",
        "label0 = np.zeros(n0, dtype = int)\n",
        "score1  = np.random.rand(n1)/2 + .2\n",
        "label1 = np.ones(n1, dtype = int)\n",
        "scores = np.concatenate((score0, score1))\n",
        "y_true = np.concatenate((label0, label1))\n",
        "\n",
        "print('True labels:')\n",
        "print(y_true)\n",
        "print('\\nScores:')\n",
        "print(scores)"
      ],
      "execution_count": 7,
      "outputs": [
        {
          "output_type": "stream",
          "text": [
            "True labels:\n",
            "[0 0 0 0 0 0 0 0 0 0 0 0 0 0 0 0 0 0 0 0 1 1 1 1 1 1 1 1 1 1 1 1 1 1 1 1 1\n",
            " 1 1 1 1 1 1 1 1 1 1 1 1 1]\n",
            "\n",
            "Scores:\n",
            "[0.41541146 0.45787992 0.10187333 0.1691975  0.46267867 0.19909079\n",
            " 0.07586165 0.49406734 0.37798617 0.16974281 0.31573024 0.41557368\n",
            " 0.42007985 0.15095443 0.31233008 0.46565573 0.1320224  0.27215885\n",
            " 0.33249006 0.47330919 0.50813137 0.27395596 0.50586106 0.20465106\n",
            " 0.22915023 0.41588293 0.67808573 0.50153397 0.44261462 0.36292665\n",
            " 0.27429772 0.46142498 0.68077508 0.58466327 0.40090467 0.39367538\n",
            " 0.35313061 0.52458088 0.23136431 0.52723806 0.28026979 0.37110157\n",
            " 0.65191941 0.45325451 0.5443526  0.46109832 0.42993744 0.20818464\n",
            " 0.6436817  0.50795135]\n"
          ],
          "name": "stdout"
        }
      ]
    },
    {
      "cell_type": "code",
      "metadata": {
        "id": "liKHoDy70Ihu",
        "outputId": "037b2bb0-0530-40b9-f87d-50be79e5c0a2",
        "colab": {
          "base_uri": "https://localhost:8080/"
        }
      },
      "source": [
        "from sklearn.metrics import roc_curve, auc\n",
        "fpr, tpr, thresholds = roc_curve(y_true, scores, pos_label = 1)\n",
        "print('Thresholds:')\n",
        "print(thresholds)"
      ],
      "execution_count": 8,
      "outputs": [
        {
          "output_type": "stream",
          "text": [
            "Thresholds:\n",
            "[1.68077508 0.68077508 0.50153397 0.46267867 0.46109832 0.45787992\n",
            " 0.42993744 0.42007985 0.41588293 0.41541146 0.39367538 0.37798617\n",
            " 0.35313061 0.31233008 0.27395596 0.27215885 0.20465106 0.07586165]\n"
          ],
          "name": "stdout"
        }
      ]
    },
    {
      "cell_type": "code",
      "metadata": {
        "id": "2lfJeXg90Nte",
        "outputId": "590c5dfd-a0cb-4335-bdf3-1043050161a8",
        "colab": {
          "base_uri": "https://localhost:8080/"
        }
      },
      "source": [
        "print('False Positive Rate:')\n",
        "print(fpr)"
      ],
      "execution_count": 9,
      "outputs": [
        {
          "output_type": "stream",
          "text": [
            "False Positive Rate:\n",
            "[0.   0.   0.   0.2  0.2  0.25 0.25 0.3  0.3  0.4  0.4  0.45 0.45 0.6\n",
            " 0.6  0.65 0.65 1.  ]\n"
          ],
          "name": "stdout"
        }
      ]
    },
    {
      "cell_type": "code",
      "metadata": {
        "id": "2oHFygIU0P6u",
        "outputId": "2f931549-9c12-4922-94c5-9ff787f6d9d9",
        "colab": {
          "base_uri": "https://localhost:8080/"
        }
      },
      "source": [
        "print('True Positive Rate:')\n",
        "tpr\n"
      ],
      "execution_count": 10,
      "outputs": [
        {
          "output_type": "stream",
          "text": [
            "True Positive Rate:\n"
          ],
          "name": "stdout"
        },
        {
          "output_type": "execute_result",
          "data": {
            "text/plain": [
              "array([0.        , 0.03333333, 0.4       , 0.4       , 0.46666667,\n",
              "       0.46666667, 0.56666667, 0.56666667, 0.6       , 0.6       ,\n",
              "       0.66666667, 0.66666667, 0.76666667, 0.76666667, 0.86666667,\n",
              "       0.86666667, 1.        , 1.        ])"
            ]
          },
          "metadata": {
            "tags": []
          },
          "execution_count": 10
        }
      ]
    },
    {
      "cell_type": "code",
      "metadata": {
        "id": "oT-Nb5c20SE-",
        "outputId": "77413e87-db51-4f07-82c6-a2a9eb475f40",
        "colab": {
          "base_uri": "https://localhost:8080/",
          "height": 295
        }
      },
      "source": [
        "import matplotlib.pyplot as plt\n",
        "from itertools import cycle\n",
        "plt.figure()\n",
        "lw = 2\n",
        "plt.plot(fpr, tpr, color='darkorange',\n",
        "         lw=lw, label='ROC curve (area = %0.2f)' % auc(fpr, tpr))\n",
        "plt.plot([0, 1], [0, 1], color='navy', lw=lw, linestyle='--')\n",
        "plt.xlim([0.0, 1.0])\n",
        "plt.ylim([0.0, 1.05])\n",
        "plt.xlabel('False Positive Rate')\n",
        "plt.ylabel('True Positive Rate')\n",
        "plt.title('Receiver operating characteristic example')\n",
        "plt.legend(loc=\"lower right\")\n",
        "plt.show()"
      ],
      "execution_count": 11,
      "outputs": [
        {
          "output_type": "display_data",
          "data": {
            "image/png": "[encoded data removed]",
            "text/plain": [
              "<Figure size 432x288 with 1 Axes>"
            ]
          },
          "metadata": {
            "tags": [],
            "needs_background": "light"
          }
        }
      ]
    },
    {
      "cell_type": "code",
      "metadata": {
        "id": "v1vf0Ajb0Vll",
        "outputId": "2fb68291-aa5f-4aee-8b81-4661476f5307",
        "colab": {
          "base_uri": "https://localhost:8080/"
        }
      },
      "source": [
        "from __future__ import print_function\n",
        "import numpy as np \n",
        "# confusion matrix to precision + recall\n",
        "def cm2pr_binary(cm):\n",
        "    p = cm[0,0]/np.sum(cm[:,0])\n",
        "    r = cm[0,0]/np.sum(cm[0])\n",
        "    return (p, r)\n",
        "\n",
        "# example of a confusion matrix for binary classification problem \n",
        "cm = np.array([[100., 10], [20, 70]])\n",
        "p,r = cm2pr_binary(cm)\n",
        "print(\"precition = {0:.2f}, recall = {1:.2f}\".format(p, r))"
      ],
      "execution_count": 12,
      "outputs": [
        {
          "output_type": "stream",
          "text": [
            "precition = 0.83, recall = 0.91\n"
          ],
          "name": "stdout"
        }
      ]
    },
    {
      "cell_type": "code",
      "metadata": {
        "id": "OK15UpCq0cUP"
      },
      "source": [
        "tp1, fp1, fn1 = 10, 5, 3\n",
        "tp2, fp2, fn2 = 17, 7, 10\n",
        "tp3, fp3, fn3 = 25, 2, 4 "
      ],
      "execution_count": 14,
      "outputs": []
    },
    {
      "cell_type": "code",
      "metadata": {
        "id": "grFn0Erg0YtW",
        "outputId": "35a08975-9a38-4237-c136-84db0212c74e",
        "colab": {
          "base_uri": "https://localhost:8080/"
        }
      },
      "source": [
        "from __future__ import print_function\n",
        "def PR(tp, fp, fn):\n",
        "    P = float(tp)/(tp + fp)\n",
        "    R = float(tp)/(tp + fn)\n",
        "    return (P, R)\n",
        "\n",
        "(P1, R1) = PR(tp1, fp1, fn1)\n",
        "(P2, R2) = PR(tp2, fp2, fn2)\n",
        "(P3, R3) = PR(tp3, fp3, fn2)\n",
        "\n",
        "print('(P1, R1) = (%.2f, %.2f)'%(P1, R1))\n",
        "print('(P2, R2) = (%.2f, %.2f)'%(P2, R2))\n",
        "print('(P3, R3) = (%.2f, %.2f)'%(P3, R3))\n"
      ],
      "execution_count": 15,
      "outputs": [
        {
          "output_type": "stream",
          "text": [
            "(P1, R1) = (0.67, 0.77)\n",
            "(P2, R2) = (0.71, 0.63)\n",
            "(P3, R3) = (0.93, 0.71)\n"
          ],
          "name": "stdout"
        }
      ]
    },
    {
      "cell_type": "code",
      "metadata": {
        "id": "mkTrDWIQ0fG-",
        "outputId": "dafac891-a44f-459f-c47c-ba7b447833dd",
        "colab": {
          "base_uri": "https://localhost:8080/"
        }
      },
      "source": [
        "total_tp = tp1 + tp2 + tp3\n",
        "total_fp = fp1 + fp2 + fp3 \n",
        "total_fn = fn1 + fn2 + fn3 \n",
        "micro_ap = float(total_tp)/(total_tp + total_fp)\n",
        "micro_ar = float(total_tp)/(total_tp + total_fn)\n",
        "print('(micro_ap, micro_ar) = (%.2f, %.2f)' % (micro_ap, micro_ar))"
      ],
      "execution_count": 16,
      "outputs": [
        {
          "output_type": "stream",
          "text": [
            "(micro_ap, micro_ar) = (0.79, 0.75)\n"
          ],
          "name": "stdout"
        }
      ]
    },
    {
      "cell_type": "code",
      "metadata": {
        "id": "rHmsPHEP0hb-",
        "outputId": "b9214f03-dcb9-416d-c98f-a752e318cb2d",
        "colab": {
          "base_uri": "https://localhost:8080/"
        }
      },
      "source": [
        "macro_ap = (P1 + P2 + P3)/3\n",
        "macro_ar = (R1 + R2 + R3)/3\n",
        "print('(micro_ap, micro_ar) = (%.2f, %.2f)' % (macro_ap, macro_ar))"
      ],
      "execution_count": 17,
      "outputs": [
        {
          "output_type": "stream",
          "text": [
            "(micro_ap, micro_ar) = (0.77, 0.70)\n"
          ],
          "name": "stdout"
        }
      ]
    }
  ]
}