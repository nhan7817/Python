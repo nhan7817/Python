{
  "nbformat": 4,
  "nbformat_minor": 0,
  "metadata": {
    "colab": {
      "name": "LTPTDL2_NguyenVietNhan-16044431.ipynb",
      "provenance": [],
      "collapsed_sections": []
    },
    "kernelspec": {
      "name": "python3",
      "display_name": "Python 3"
    }
  },
  "cells": [
    {
      "cell_type": "markdown",
      "metadata": {
        "id": "7vw5Kdzcx7ZE"
      },
      "source": [
        "Lập trình phân tích dữ liệu 2\r\n",
        "\r\n",
        "Nguyễn Việt Nhân- 16044431"
      ]
    },
    {
      "cell_type": "code",
      "metadata": {
        "id": "1EMuxuhaxv7r"
      },
      "source": [
        "import numpy as np\r\n",
        "import pandas as pd\r\n",
        "import matplotlib.pyplot as plt\r\n",
        "import seaborn as sns\r\n"
      ],
      "execution_count": null,
      "outputs": []
    },
    {
      "cell_type": "code",
      "metadata": {
        "id": "qBg3MtTV0TSb"
      },
      "source": [
        "df=pd.ExcelFile('/content/KQThiLyThuyet-26.12.2020_ca2.xls')"
      ],
      "execution_count": null,
      "outputs": []
    },
    {
      "cell_type": "code",
      "metadata": {
        "id": "tJtLajNg0fai"
      },
      "source": [
        "result=df.parse('Sheet1') "
      ],
      "execution_count": null,
      "outputs": []
    },
    {
      "cell_type": "code",
      "metadata": {
        "colab": {
          "base_uri": "https://localhost:8080/"
        },
        "id": "p1e2_Ihc0nfr",
        "outputId": "6f66da17-d2d2-4173-ce6c-4d5aba1f47f3"
      },
      "source": [
        "result.isnull().sum()"
      ],
      "execution_count": null,
      "outputs": [
        {
          "output_type": "execute_result",
          "data": {
            "text/plain": [
              "STT          0\n",
              "Mã SV        0\n",
              "Họ đệm       0\n",
              "Tên          0\n",
              "Giới tính    0\n",
              "Ngày sinh    4\n",
              "Điểm         0\n",
              "Điểm.1       0\n",
              "dtype: int64"
            ]
          },
          "metadata": {
            "tags": []
          },
          "execution_count": 20
        }
      ]
    },
    {
      "cell_type": "code",
      "metadata": {
        "colab": {
          "base_uri": "https://localhost:8080/",
          "height": 514
        },
        "id": "crU50YJH00Wj",
        "outputId": "af6e589f-41a4-4605-a1b3-3155935c1bb2"
      },
      "source": [
        "result.head(15)"
      ],
      "execution_count": null,
      "outputs": [
        {
          "output_type": "execute_result",
          "data": {
            "text/html": [
              "<div>\n",
              "<style scoped>\n",
              "    .dataframe tbody tr th:only-of-type {\n",
              "        vertical-align: middle;\n",
              "    }\n",
              "\n",
              "    .dataframe tbody tr th {\n",
              "        vertical-align: top;\n",
              "    }\n",
              "\n",
              "    .dataframe thead th {\n",
              "        text-align: right;\n",
              "    }\n",
              "</style>\n",
              "<table border=\"1\" class=\"dataframe\">\n",
              "  <thead>\n",
              "    <tr style=\"text-align: right;\">\n",
              "      <th></th>\n",
              "      <th>STT</th>\n",
              "      <th>Mã SV</th>\n",
              "      <th>Họ đệm</th>\n",
              "      <th>Tên</th>\n",
              "      <th>Giới tính</th>\n",
              "      <th>Ngày sinh</th>\n",
              "      <th>Điểm</th>\n",
              "      <th>Điểm.1</th>\n",
              "    </tr>\n",
              "  </thead>\n",
              "  <tbody>\n",
              "    <tr>\n",
              "      <th>0</th>\n",
              "      <td>1</td>\n",
              "      <td>18066431</td>\n",
              "      <td>Đỗ Huy Quốc</td>\n",
              "      <td>An</td>\n",
              "      <td>Nữ</td>\n",
              "      <td>2000-08-11 00:00:00</td>\n",
              "      <td>5.0</td>\n",
              "      <td>5.0</td>\n",
              "    </tr>\n",
              "    <tr>\n",
              "      <th>1</th>\n",
              "      <td>2</td>\n",
              "      <td>18031341</td>\n",
              "      <td>Hồ Văn Công</td>\n",
              "      <td>Anh</td>\n",
              "      <td>Nữ</td>\n",
              "      <td>27/09/2000</td>\n",
              "      <td>5.5</td>\n",
              "      <td>5.5</td>\n",
              "    </tr>\n",
              "    <tr>\n",
              "      <th>2</th>\n",
              "      <td>4</td>\n",
              "      <td>19462511</td>\n",
              "      <td>Nguyễn Thị Tuyết</td>\n",
              "      <td>Anh</td>\n",
              "      <td>Nữ</td>\n",
              "      <td>2001-01-01 00:00:00</td>\n",
              "      <td>6.3</td>\n",
              "      <td>6.5</td>\n",
              "    </tr>\n",
              "    <tr>\n",
              "      <th>3</th>\n",
              "      <td>5</td>\n",
              "      <td>18002951</td>\n",
              "      <td>Bùi Thái</td>\n",
              "      <td>Bình</td>\n",
              "      <td>Nữ</td>\n",
              "      <td>25/09/2000</td>\n",
              "      <td>5.8</td>\n",
              "      <td>6.0</td>\n",
              "    </tr>\n",
              "    <tr>\n",
              "      <th>4</th>\n",
              "      <td>6</td>\n",
              "      <td>18024551</td>\n",
              "      <td>Bùi Kim</td>\n",
              "      <td>Chi</td>\n",
              "      <td>Nữ</td>\n",
              "      <td>2000-04-06 00:00:00</td>\n",
              "      <td>7.0</td>\n",
              "      <td>7.0</td>\n",
              "    </tr>\n",
              "    <tr>\n",
              "      <th>5</th>\n",
              "      <td>7</td>\n",
              "      <td>18043821</td>\n",
              "      <td>Lương Thị Quế</td>\n",
              "      <td>Chi</td>\n",
              "      <td>Nữ</td>\n",
              "      <td>29/07/2000</td>\n",
              "      <td>6.5</td>\n",
              "      <td>6.5</td>\n",
              "    </tr>\n",
              "    <tr>\n",
              "      <th>6</th>\n",
              "      <td>8</td>\n",
              "      <td>17037311</td>\n",
              "      <td>Phạm Dương</td>\n",
              "      <td>Đức</td>\n",
              "      <td>Nữ</td>\n",
              "      <td>1999-04-03 00:00:00</td>\n",
              "      <td>6.0</td>\n",
              "      <td>6.0</td>\n",
              "    </tr>\n",
              "    <tr>\n",
              "      <th>7</th>\n",
              "      <td>9</td>\n",
              "      <td>18042341</td>\n",
              "      <td>Đỗ Thị</td>\n",
              "      <td>Giang</td>\n",
              "      <td>Nữ</td>\n",
              "      <td>21/02/2000</td>\n",
              "      <td>4.5</td>\n",
              "      <td>4.5</td>\n",
              "    </tr>\n",
              "    <tr>\n",
              "      <th>8</th>\n",
              "      <td>10</td>\n",
              "      <td>18038211</td>\n",
              "      <td>Trần Thị Thùy</td>\n",
              "      <td>Giang</td>\n",
              "      <td>Nữ</td>\n",
              "      <td>NaN</td>\n",
              "      <td>4.0</td>\n",
              "      <td>4.0</td>\n",
              "    </tr>\n",
              "    <tr>\n",
              "      <th>9</th>\n",
              "      <td>11</td>\n",
              "      <td>17033471</td>\n",
              "      <td>La Hồng</td>\n",
              "      <td>Giao</td>\n",
              "      <td>Nữ</td>\n",
              "      <td>1999-10-10 00:00:00</td>\n",
              "      <td>5.0</td>\n",
              "      <td>5.0</td>\n",
              "    </tr>\n",
              "    <tr>\n",
              "      <th>10</th>\n",
              "      <td>12</td>\n",
              "      <td>17098221</td>\n",
              "      <td>Nguyễn Minh</td>\n",
              "      <td>Hải</td>\n",
              "      <td>Nữ</td>\n",
              "      <td>1997-01-06 00:00:00</td>\n",
              "      <td>4.8</td>\n",
              "      <td>5.0</td>\n",
              "    </tr>\n",
              "    <tr>\n",
              "      <th>11</th>\n",
              "      <td>13</td>\n",
              "      <td>17101651</td>\n",
              "      <td>Lê Phạm Ngọc</td>\n",
              "      <td>Hân</td>\n",
              "      <td>Nữ</td>\n",
              "      <td>19/03/1999</td>\n",
              "      <td>3.8</td>\n",
              "      <td>4.0</td>\n",
              "    </tr>\n",
              "    <tr>\n",
              "      <th>12</th>\n",
              "      <td>14</td>\n",
              "      <td>17040981</td>\n",
              "      <td>Lê Thị Cẩm</td>\n",
              "      <td>Hằng</td>\n",
              "      <td>Nữ</td>\n",
              "      <td>13/07/1998</td>\n",
              "      <td>5.0</td>\n",
              "      <td>5.0</td>\n",
              "    </tr>\n",
              "    <tr>\n",
              "      <th>13</th>\n",
              "      <td>15</td>\n",
              "      <td>18062681</td>\n",
              "      <td>Nguyễn Thị Lệ</td>\n",
              "      <td>Hoa</td>\n",
              "      <td>Nữ</td>\n",
              "      <td>21/05/2000</td>\n",
              "      <td>6.3</td>\n",
              "      <td>6.5</td>\n",
              "    </tr>\n",
              "    <tr>\n",
              "      <th>14</th>\n",
              "      <td>16</td>\n",
              "      <td>18014381</td>\n",
              "      <td>Nguyễn Minh</td>\n",
              "      <td>Hòa</td>\n",
              "      <td>Nữ</td>\n",
              "      <td>14/09/2000</td>\n",
              "      <td>3.8</td>\n",
              "      <td>4.0</td>\n",
              "    </tr>\n",
              "  </tbody>\n",
              "</table>\n",
              "</div>"
            ],
            "text/plain": [
              "    STT     Mã SV            Họ đệm  ...            Ngày sinh Điểm Điểm.1\n",
              "0     1  18066431       Đỗ Huy Quốc  ...  2000-08-11 00:00:00  5.0    5.0\n",
              "1     2  18031341       Hồ Văn Công  ...           27/09/2000  5.5    5.5\n",
              "2     4  19462511  Nguyễn Thị Tuyết  ...  2001-01-01 00:00:00  6.3    6.5\n",
              "3     5  18002951          Bùi Thái  ...           25/09/2000  5.8    6.0\n",
              "4     6  18024551           Bùi Kim  ...  2000-04-06 00:00:00  7.0    7.0\n",
              "5     7  18043821     Lương Thị Quế  ...           29/07/2000  6.5    6.5\n",
              "6     8  17037311        Phạm Dương  ...  1999-04-03 00:00:00  6.0    6.0\n",
              "7     9  18042341            Đỗ Thị  ...           21/02/2000  4.5    4.5\n",
              "8    10  18038211     Trần Thị Thùy  ...                  NaN  4.0    4.0\n",
              "9    11  17033471           La Hồng  ...  1999-10-10 00:00:00  5.0    5.0\n",
              "10   12  17098221       Nguyễn Minh  ...  1997-01-06 00:00:00  4.8    5.0\n",
              "11   13  17101651      Lê Phạm Ngọc  ...           19/03/1999  3.8    4.0\n",
              "12   14  17040981        Lê Thị Cẩm  ...           13/07/1998  5.0    5.0\n",
              "13   15  18062681     Nguyễn Thị Lệ  ...           21/05/2000  6.3    6.5\n",
              "14   16  18014381       Nguyễn Minh  ...           14/09/2000  3.8    4.0\n",
              "\n",
              "[15 rows x 8 columns]"
            ]
          },
          "metadata": {
            "tags": []
          },
          "execution_count": 21
        }
      ]
    },
    {
      "cell_type": "code",
      "metadata": {
        "id": "o8dtQukN1Csi"
      },
      "source": [
        "result=result.rename(columns={'Unnamed: 0':'STT'})\r\n",
        "result=result.rename(columns={'Unnamed: 1':'Mã SV'})\r\n",
        "result=result.rename(columns={'Unnamed: 2':'Họ Đệm'})\r\n",
        "result=result.rename(columns={'Unnamed: 3':'Tên'})\r\n",
        "result=result.rename(columns={'Unnamed: 4':'Giới tính'})\r\n",
        "result=result.rename(columns={'Unnamed: 5':'Ngày sinh'})\r\n",
        "result=result.rename(columns={'Unnamed: 6':'Điểm LT'})\r\n",
        "result=result.rename(columns={'Unnamed: 7':'Điểm TH '})"
      ],
      "execution_count": null,
      "outputs": []
    },
    {
      "cell_type": "code",
      "metadata": {
        "colab": {
          "base_uri": "https://localhost:8080/",
          "height": 419
        },
        "id": "f4iMVksG3zPj",
        "outputId": "8e814212-008a-47a1-aa89-7ef3de30eece"
      },
      "source": [
        "result"
      ],
      "execution_count": null,
      "outputs": [
        {
          "output_type": "execute_result",
          "data": {
            "text/html": [
              "<div>\n",
              "<style scoped>\n",
              "    .dataframe tbody tr th:only-of-type {\n",
              "        vertical-align: middle;\n",
              "    }\n",
              "\n",
              "    .dataframe tbody tr th {\n",
              "        vertical-align: top;\n",
              "    }\n",
              "\n",
              "    .dataframe thead th {\n",
              "        text-align: right;\n",
              "    }\n",
              "</style>\n",
              "<table border=\"1\" class=\"dataframe\">\n",
              "  <thead>\n",
              "    <tr style=\"text-align: right;\">\n",
              "      <th></th>\n",
              "      <th>STT</th>\n",
              "      <th>Mã SV</th>\n",
              "      <th>Họ đệm</th>\n",
              "      <th>Tên</th>\n",
              "      <th>Giới tính</th>\n",
              "      <th>Ngày sinh</th>\n",
              "      <th>Điểm</th>\n",
              "      <th>Điểm.1</th>\n",
              "    </tr>\n",
              "  </thead>\n",
              "  <tbody>\n",
              "    <tr>\n",
              "      <th>0</th>\n",
              "      <td>1</td>\n",
              "      <td>18066431</td>\n",
              "      <td>Đỗ Huy Quốc</td>\n",
              "      <td>An</td>\n",
              "      <td>Nữ</td>\n",
              "      <td>2000-08-11 00:00:00</td>\n",
              "      <td>5.0</td>\n",
              "      <td>5.0</td>\n",
              "    </tr>\n",
              "    <tr>\n",
              "      <th>1</th>\n",
              "      <td>2</td>\n",
              "      <td>18031341</td>\n",
              "      <td>Hồ Văn Công</td>\n",
              "      <td>Anh</td>\n",
              "      <td>Nữ</td>\n",
              "      <td>27/09/2000</td>\n",
              "      <td>5.5</td>\n",
              "      <td>5.5</td>\n",
              "    </tr>\n",
              "    <tr>\n",
              "      <th>2</th>\n",
              "      <td>4</td>\n",
              "      <td>19462511</td>\n",
              "      <td>Nguyễn Thị Tuyết</td>\n",
              "      <td>Anh</td>\n",
              "      <td>Nữ</td>\n",
              "      <td>2001-01-01 00:00:00</td>\n",
              "      <td>6.3</td>\n",
              "      <td>6.5</td>\n",
              "    </tr>\n",
              "    <tr>\n",
              "      <th>3</th>\n",
              "      <td>5</td>\n",
              "      <td>18002951</td>\n",
              "      <td>Bùi Thái</td>\n",
              "      <td>Bình</td>\n",
              "      <td>Nữ</td>\n",
              "      <td>25/09/2000</td>\n",
              "      <td>5.8</td>\n",
              "      <td>6.0</td>\n",
              "    </tr>\n",
              "    <tr>\n",
              "      <th>4</th>\n",
              "      <td>6</td>\n",
              "      <td>18024551</td>\n",
              "      <td>Bùi Kim</td>\n",
              "      <td>Chi</td>\n",
              "      <td>Nữ</td>\n",
              "      <td>2000-04-06 00:00:00</td>\n",
              "      <td>7.0</td>\n",
              "      <td>7.0</td>\n",
              "    </tr>\n",
              "    <tr>\n",
              "      <th>...</th>\n",
              "      <td>...</td>\n",
              "      <td>...</td>\n",
              "      <td>...</td>\n",
              "      <td>...</td>\n",
              "      <td>...</td>\n",
              "      <td>...</td>\n",
              "      <td>...</td>\n",
              "      <td>...</td>\n",
              "    </tr>\n",
              "    <tr>\n",
              "      <th>59</th>\n",
              "      <td>61</td>\n",
              "      <td>18015761</td>\n",
              "      <td>Đỗ Thị Lan</td>\n",
              "      <td>Vân</td>\n",
              "      <td>Nữ</td>\n",
              "      <td>2000-08-12 00:00:00</td>\n",
              "      <td>5.5</td>\n",
              "      <td>5.5</td>\n",
              "    </tr>\n",
              "    <tr>\n",
              "      <th>60</th>\n",
              "      <td>62</td>\n",
              "      <td>17071471</td>\n",
              "      <td>Trần Thùy</td>\n",
              "      <td>Vân</td>\n",
              "      <td>Nữ</td>\n",
              "      <td>NaN</td>\n",
              "      <td>4.5</td>\n",
              "      <td>4.5</td>\n",
              "    </tr>\n",
              "    <tr>\n",
              "      <th>61</th>\n",
              "      <td>63</td>\n",
              "      <td>18098621</td>\n",
              "      <td>Nguyễn Tường</td>\n",
              "      <td>Vy</td>\n",
              "      <td>Nữ</td>\n",
              "      <td>21/04/2000</td>\n",
              "      <td>4.8</td>\n",
              "      <td>5.0</td>\n",
              "    </tr>\n",
              "    <tr>\n",
              "      <th>62</th>\n",
              "      <td>64</td>\n",
              "      <td>17054331</td>\n",
              "      <td>Từ Thị Thảo</td>\n",
              "      <td>Vy</td>\n",
              "      <td>Nữ</td>\n",
              "      <td>18/12/1999</td>\n",
              "      <td>4.0</td>\n",
              "      <td>4.0</td>\n",
              "    </tr>\n",
              "    <tr>\n",
              "      <th>63</th>\n",
              "      <td>65</td>\n",
              "      <td>18020671</td>\n",
              "      <td>Đoàn Nhị Thiên</td>\n",
              "      <td>Y</td>\n",
              "      <td>Nữ</td>\n",
              "      <td>18/10/2000</td>\n",
              "      <td>6.0</td>\n",
              "      <td>6.0</td>\n",
              "    </tr>\n",
              "  </tbody>\n",
              "</table>\n",
              "<p>64 rows × 8 columns</p>\n",
              "</div>"
            ],
            "text/plain": [
              "    STT     Mã SV            Họ đệm  ...            Ngày sinh Điểm Điểm.1\n",
              "0     1  18066431       Đỗ Huy Quốc  ...  2000-08-11 00:00:00  5.0    5.0\n",
              "1     2  18031341       Hồ Văn Công  ...           27/09/2000  5.5    5.5\n",
              "2     4  19462511  Nguyễn Thị Tuyết  ...  2001-01-01 00:00:00  6.3    6.5\n",
              "3     5  18002951          Bùi Thái  ...           25/09/2000  5.8    6.0\n",
              "4     6  18024551           Bùi Kim  ...  2000-04-06 00:00:00  7.0    7.0\n",
              "..  ...       ...               ...  ...                  ...  ...    ...\n",
              "59   61  18015761        Đỗ Thị Lan  ...  2000-08-12 00:00:00  5.5    5.5\n",
              "60   62  17071471         Trần Thùy  ...                  NaN  4.5    4.5\n",
              "61   63  18098621      Nguyễn Tường  ...           21/04/2000  4.8    5.0\n",
              "62   64  17054331       Từ Thị Thảo  ...           18/12/1999  4.0    4.0\n",
              "63   65  18020671    Đoàn Nhị Thiên  ...           18/10/2000  6.0    6.0\n",
              "\n",
              "[64 rows x 8 columns]"
            ]
          },
          "metadata": {
            "tags": []
          },
          "execution_count": 23
        }
      ]
    },
    {
      "cell_type": "code",
      "metadata": {
        "colab": {
          "base_uri": "https://localhost:8080/"
        },
        "id": "TtjWnI1v4OOy",
        "outputId": "b9ff7c3a-b74e-4159-e37d-0c537ea44fb9"
      },
      "source": [
        "result['Ngày sinh'].value_counts().idxmax()"
      ],
      "execution_count": null,
      "outputs": [
        {
          "output_type": "execute_result",
          "data": {
            "text/plain": [
              "datetime.datetime(1999, 5, 7, 0, 0)"
            ]
          },
          "metadata": {
            "tags": []
          },
          "execution_count": 25
        }
      ]
    },
    {
      "cell_type": "code",
      "metadata": {
        "id": "y2Q6Mesw6M3i"
      },
      "source": [
        "result['Ngày sinh'].fillna(result['Ngày sinh'].value_counts().idxmax(),inplace=True)"
      ],
      "execution_count": null,
      "outputs": []
    },
    {
      "cell_type": "code",
      "metadata": {
        "colab": {
          "base_uri": "https://localhost:8080/"
        },
        "id": "S6orBenB6bKS",
        "outputId": "79ea76cb-7315-460f-db19-12766d14eb7d"
      },
      "source": [
        "result.isnull().sum()"
      ],
      "execution_count": null,
      "outputs": [
        {
          "output_type": "execute_result",
          "data": {
            "text/plain": [
              "STT          0\n",
              "Mã SV        0\n",
              "Họ đệm       0\n",
              "Tên          0\n",
              "Giới tính    0\n",
              "Ngày sinh    0\n",
              "Điểm         0\n",
              "Điểm.1       0\n",
              "dtype: int64"
            ]
          },
          "metadata": {
            "tags": []
          },
          "execution_count": 29
        }
      ]
    },
    {
      "cell_type": "code",
      "metadata": {
        "colab": {
          "base_uri": "https://localhost:8080/",
          "height": 297
        },
        "id": "WH4L6FKx6fkl",
        "outputId": "0c7fd21b-611b-46c4-89a0-303a0a90afd1"
      },
      "source": [
        "result.describe()"
      ],
      "execution_count": null,
      "outputs": [
        {
          "output_type": "execute_result",
          "data": {
            "text/html": [
              "<div>\n",
              "<style scoped>\n",
              "    .dataframe tbody tr th:only-of-type {\n",
              "        vertical-align: middle;\n",
              "    }\n",
              "\n",
              "    .dataframe tbody tr th {\n",
              "        vertical-align: top;\n",
              "    }\n",
              "\n",
              "    .dataframe thead th {\n",
              "        text-align: right;\n",
              "    }\n",
              "</style>\n",
              "<table border=\"1\" class=\"dataframe\">\n",
              "  <thead>\n",
              "    <tr style=\"text-align: right;\">\n",
              "      <th></th>\n",
              "      <th>STT</th>\n",
              "      <th>Mã SV</th>\n",
              "      <th>Điểm</th>\n",
              "      <th>Điểm.1</th>\n",
              "    </tr>\n",
              "  </thead>\n",
              "  <tbody>\n",
              "    <tr>\n",
              "      <th>count</th>\n",
              "      <td>64.000000</td>\n",
              "      <td>6.400000e+01</td>\n",
              "      <td>64.000000</td>\n",
              "      <td>64.000000</td>\n",
              "    </tr>\n",
              "    <tr>\n",
              "      <th>mean</th>\n",
              "      <td>33.468750</td>\n",
              "      <td>1.881333e+07</td>\n",
              "      <td>5.315625</td>\n",
              "      <td>5.421875</td>\n",
              "    </tr>\n",
              "    <tr>\n",
              "      <th>std</th>\n",
              "      <td>18.672592</td>\n",
              "      <td>1.030669e+07</td>\n",
              "      <td>1.205703</td>\n",
              "      <td>1.225453</td>\n",
              "    </tr>\n",
              "    <tr>\n",
              "      <th>min</th>\n",
              "      <td>1.000000</td>\n",
              "      <td>1.404069e+07</td>\n",
              "      <td>0.000000</td>\n",
              "      <td>0.000000</td>\n",
              "    </tr>\n",
              "    <tr>\n",
              "      <th>25%</th>\n",
              "      <td>17.750000</td>\n",
              "      <td>1.707397e+07</td>\n",
              "      <td>4.725000</td>\n",
              "      <td>4.875000</td>\n",
              "    </tr>\n",
              "    <tr>\n",
              "      <th>50%</th>\n",
              "      <td>33.500000</td>\n",
              "      <td>1.801700e+07</td>\n",
              "      <td>5.400000</td>\n",
              "      <td>5.500000</td>\n",
              "    </tr>\n",
              "    <tr>\n",
              "      <th>75%</th>\n",
              "      <td>49.250000</td>\n",
              "      <td>1.805240e+07</td>\n",
              "      <td>6.300000</td>\n",
              "      <td>6.500000</td>\n",
              "    </tr>\n",
              "    <tr>\n",
              "      <th>max</th>\n",
              "      <td>65.000000</td>\n",
              "      <td>9.966611e+07</td>\n",
              "      <td>7.000000</td>\n",
              "      <td>7.000000</td>\n",
              "    </tr>\n",
              "  </tbody>\n",
              "</table>\n",
              "</div>"
            ],
            "text/plain": [
              "             STT         Mã SV       Điểm     Điểm.1\n",
              "count  64.000000  6.400000e+01  64.000000  64.000000\n",
              "mean   33.468750  1.881333e+07   5.315625   5.421875\n",
              "std    18.672592  1.030669e+07   1.205703   1.225453\n",
              "min     1.000000  1.404069e+07   0.000000   0.000000\n",
              "25%    17.750000  1.707397e+07   4.725000   4.875000\n",
              "50%    33.500000  1.801700e+07   5.400000   5.500000\n",
              "75%    49.250000  1.805240e+07   6.300000   6.500000\n",
              "max    65.000000  9.966611e+07   7.000000   7.000000"
            ]
          },
          "metadata": {
            "tags": []
          },
          "execution_count": 30
        }
      ]
    },
    {
      "cell_type": "code",
      "metadata": {
        "colab": {
          "base_uri": "https://localhost:8080/",
          "height": 296
        },
        "id": "4v6PJKVj7_FT",
        "outputId": "d4471bbc-91d5-4518-9ec5-af57a6bfda11"
      },
      "source": [
        "sns.countplot(x='Điểm', data=result)"
      ],
      "execution_count": null,
      "outputs": [
        {
          "output_type": "execute_result",
          "data": {
            "text/plain": [
              "<matplotlib.axes._subplots.AxesSubplot at 0x7f551a6cd550>"
            ]
          },
          "metadata": {
            "tags": []
          },
          "execution_count": 36
        },
        {
          "output_type": "display_data",
          "data": {
            "image/png": "[encoded data removed]",
            "text/plain": [
              "<Figure size 432x288 with 1 Axes>"
            ]
          },
          "metadata": {
            "tags": [],
            "needs_background": "light"
          }
        }
      ]
    },
    {
      "cell_type": "code",
      "metadata": {
        "colab": {
          "base_uri": "https://localhost:8080/",
          "height": 379
        },
        "id": "2WkhD0tPAZZy",
        "outputId": "fe3fc78f-4096-4403-8dd6-58f613c0fffc"
      },
      "source": [
        "sns.displot(result['Điểm'], kde=True).set(xlabel='Điểm', ylabel='Count')"
      ],
      "execution_count": null,
      "outputs": [
        {
          "output_type": "execute_result",
          "data": {
            "text/plain": [
              "<seaborn.axisgrid.FacetGrid at 0x7f550ef09588>"
            ]
          },
          "metadata": {
            "tags": []
          },
          "execution_count": 52
        },
        {
          "output_type": "display_data",
          "data": {
            "image/png": "[encoded data removed]",
            "text/plain": [
              "<Figure size 360x360 with 1 Axes>"
            ]
          },
          "metadata": {
            "tags": []
          }
        }
      ]
    },
    {
      "cell_type": "markdown",
      "metadata": {
        "id": "DeJyuUU7-ATJ"
      },
      "source": [
        "Từ biểu đồ ta thấy điểm tập trung nhiều nhất vào khoảng 3 đến 7 điểm.\r\n",
        "\r\n",
        "Không có điểm trên 8\r\n",
        "\r\n",
        "Điểm sinh viên hầu hết ở mức trung bình khá."
      ]
    },
    {
      "cell_type": "code",
      "metadata": {
        "colab": {
          "base_uri": "https://localhost:8080/",
          "height": 359
        },
        "id": "5C1AXuPoF4lZ",
        "outputId": "a308ce75-6992-44f2-8125-0154d4f7f15c"
      },
      "source": [
        "sns.boxplot(x=result['Giới tính'], y=result['Điểm'])"
      ],
      "execution_count": null,
      "outputs": [
        {
          "output_type": "execute_result",
          "data": {
            "text/plain": [
              "<matplotlib.axes._subplots.AxesSubplot at 0x7f550eca4d68>"
            ]
          },
          "metadata": {
            "tags": []
          },
          "execution_count": 57
        },
        {
          "output_type": "display_data",
          "data": {
            "image/png": "[encoded data removed]",
            "text/plain": [
              "<Figure size 576x360 with 1 Axes>"
            ]
          },
          "metadata": {
            "tags": []
          }
        }
      ]
    },
    {
      "cell_type": "markdown",
      "metadata": {
        "id": "pC-Add3qGfuo"
      },
      "source": [
        "\r\n",
        "từ biểu đồ ta thấy có giá trị outlier tại điểm 0 của giới tính nữ.\r\n",
        "từ biểu đồ ta thấy lớp chỉ có nữ không có nam\r\n",
        "điểm cao nhất là 7\r\n"
      ]
    }
  ]
}